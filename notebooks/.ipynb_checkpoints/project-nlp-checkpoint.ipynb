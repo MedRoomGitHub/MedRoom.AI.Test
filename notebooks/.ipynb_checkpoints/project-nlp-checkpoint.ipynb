{
 "cells": [
  {
   "cell_type": "code",
   "execution_count": null,
   "id": "8ee17e31",
   "metadata": {},
   "outputs": [],
   "source": [
    "! python --version"
   ]
  },
  {
   "cell_type": "markdown",
   "id": "8bddf659",
   "metadata": {},
   "source": [
    "### Import libs"
   ]
  },
  {
   "cell_type": "code",
   "execution_count": 1,
   "id": "8d655928",
   "metadata": {},
   "outputs": [
    {
     "name": "stderr",
     "output_type": "stream",
     "text": [
      "[nltk_data] Downloading package stopwords to /home/jovyan/nltk_data...\n",
      "[nltk_data]   Package stopwords is already up-to-date!\n",
      "[nltk_data] Downloading package punkt to /home/jovyan/nltk_data...\n",
      "[nltk_data]   Package punkt is already up-to-date!\n"
     ]
    }
   ],
   "source": [
    "import gensim\n",
    "import gensim.corpora as corpora\n",
    "from gensim.utils import simple_preprocess\n",
    "from gensim.models import word2vec\n",
    "import multiprocessing\n",
    "import sklearn\n",
    "import spacy\n",
    "\n",
    "import pandas as pd\n",
    "import random\n",
    "import numpy as np\n",
    "import unicodedata\n",
    "import nltk\n",
    "import re\n",
    "from nltk.corpus import stopwords\n",
    "nltk.download('stopwords')\n",
    "nltk.download('punkt')\n",
    "import logging\n",
    "\n",
    "import matplotlib.pyplot as plt\n",
    "import seaborn as sns\n",
    "sns.set_style('whitegrid')\n",
    "%matplotlib inline\n",
    "\n",
    "from sklearn.model_selection import StratifiedShuffleSplit\n",
    "pd.set_option('display.max_rows', None)\n",
    "pd.set_option('display.max_colwidth', None)"
   ]
  },
  {
   "cell_type": "code",
   "execution_count": 2,
   "id": "603d5c25",
   "metadata": {},
   "outputs": [
    {
     "name": "stdout",
     "output_type": "stream",
     "text": [
      "3.8.0\n"
     ]
    }
   ],
   "source": [
    "print(gensim.__version__)"
   ]
  },
  {
   "cell_type": "markdown",
   "id": "a18f63f6",
   "metadata": {},
   "source": [
    "### Functions to Clean Text"
   ]
  },
  {
   "cell_type": "code",
   "execution_count": 3,
   "id": "b1e7b7fd",
   "metadata": {},
   "outputs": [],
   "source": [
    "stop_words = stopwords.words('portuguese')\n",
    "stop_words.pop(stop_words.index('não'))\n",
    "new_stopwords = ('bom', 'dia', 'ola', 'eu')\n",
    "for i in new_stopwords:\n",
    "    stop_words.append(i)\n",
    "    \n",
    "nlp = spacy.load(\"pt_core_news_sm\")\n",
    "\n",
    "def anonymizer(text,stop_words):\n",
    "    text = unicodedata.normalize('NFD', text).encode('ascii', 'ignore').decode('utf-8')\n",
    "    text = re.sub(' +', ' ', str(text).lower())\n",
    "    text = re.sub('((http?|ftp|smtp):\\/\\/)?(www.)?[a-z0-9]+\\.[a-z]+(\\/[a-zA-Z0-9#]+\\/?)*', ' ', str(text).lower())\n",
    "    text = re.sub('\\S+@\\S+', ' ', str(text).lower())\n",
    "    text = re.sub('@\\S+', ' ', str(text).lower())\n",
    "    text = re.sub('\\d', ' ', str(text).lower())\n",
    "    text = re.sub('https:\\S+', ' ', str(text).lower())\n",
    "    text = re.sub('[^a-z0-9 ]+', ' ', str(text).lower())\n",
    "    text = nltk.tokenize.word_tokenize(text, language='portuguese')\n",
    "    return ' '.join([w for w in text if not w in stop_words])"
   ]
  },
  {
   "cell_type": "markdown",
   "id": "57f855b1",
   "metadata": {},
   "source": [
    "### Analise de score do texto"
   ]
  },
  {
   "cell_type": "markdown",
   "id": "8b388077",
   "metadata": {},
   "source": [
    "### Converter as frases em um dataset pandas"
   ]
  },
  {
   "cell_type": "code",
   "execution_count": 4,
   "id": "fcd3c84a",
   "metadata": {},
   "outputs": [],
   "source": [
    "dados = {'indices_id': ['0','1','2','3'],\n",
    "         'Frase original': ['Olhando para a escala na parede, qual valor indicaria melhor a sua dor hoje?',\n",
    "                           'Olhando para a escala na parede, qual valor indicaria melhor a sua dor hoje?',\n",
    "                           'Olhando para a escala na parede, qual valor indicaria melhor a sua dor hoje?',\n",
    "                           'Olhando para a escala na parede, qual valor indicaria melhor a sua dor hoje?'],\n",
    "         'Frases comparativas': ['De acordo com a escala de dor ali na parede', \n",
    "                                'qual valor você acha que mais representa a sua dor?',\n",
    "                                'De 0 a 10, qual o nível de intensidade da sua dor atualmente?',\n",
    "                                'Qual a intensidade da sua dor?'],\n",
    "         }"
   ]
  },
  {
   "cell_type": "code",
   "execution_count": 5,
   "id": "cc03315d",
   "metadata": {},
   "outputs": [],
   "source": [
    "dataset = pd.DataFrame(dados)"
   ]
  },
  {
   "cell_type": "code",
   "execution_count": 6,
   "id": "b88957ae",
   "metadata": {},
   "outputs": [
    {
     "data": {
      "text/html": [
       "<div>\n",
       "<style scoped>\n",
       "    .dataframe tbody tr th:only-of-type {\n",
       "        vertical-align: middle;\n",
       "    }\n",
       "\n",
       "    .dataframe tbody tr th {\n",
       "        vertical-align: top;\n",
       "    }\n",
       "\n",
       "    .dataframe thead th {\n",
       "        text-align: right;\n",
       "    }\n",
       "</style>\n",
       "<table border=\"1\" class=\"dataframe\">\n",
       "  <thead>\n",
       "    <tr style=\"text-align: right;\">\n",
       "      <th></th>\n",
       "      <th>indices_id</th>\n",
       "      <th>Frase original</th>\n",
       "      <th>Frases comparativas</th>\n",
       "    </tr>\n",
       "  </thead>\n",
       "  <tbody>\n",
       "    <tr>\n",
       "      <th>0</th>\n",
       "      <td>0</td>\n",
       "      <td>Olhando para a escala na parede, qual valor indicaria melhor a sua dor hoje?</td>\n",
       "      <td>De acordo com a escala de dor ali na parede</td>\n",
       "    </tr>\n",
       "    <tr>\n",
       "      <th>1</th>\n",
       "      <td>1</td>\n",
       "      <td>Olhando para a escala na parede, qual valor indicaria melhor a sua dor hoje?</td>\n",
       "      <td>qual valor você acha que mais representa a sua dor?</td>\n",
       "    </tr>\n",
       "    <tr>\n",
       "      <th>2</th>\n",
       "      <td>2</td>\n",
       "      <td>Olhando para a escala na parede, qual valor indicaria melhor a sua dor hoje?</td>\n",
       "      <td>De 0 a 10, qual o nível de intensidade da sua dor atualmente?</td>\n",
       "    </tr>\n",
       "    <tr>\n",
       "      <th>3</th>\n",
       "      <td>3</td>\n",
       "      <td>Olhando para a escala na parede, qual valor indicaria melhor a sua dor hoje?</td>\n",
       "      <td>Qual a intensidade da sua dor?</td>\n",
       "    </tr>\n",
       "  </tbody>\n",
       "</table>\n",
       "</div>"
      ],
      "text/plain": [
       "  indices_id  \\\n",
       "0          0   \n",
       "1          1   \n",
       "2          2   \n",
       "3          3   \n",
       "\n",
       "                                                                 Frase original  \\\n",
       "0  Olhando para a escala na parede, qual valor indicaria melhor a sua dor hoje?   \n",
       "1  Olhando para a escala na parede, qual valor indicaria melhor a sua dor hoje?   \n",
       "2  Olhando para a escala na parede, qual valor indicaria melhor a sua dor hoje?   \n",
       "3  Olhando para a escala na parede, qual valor indicaria melhor a sua dor hoje?   \n",
       "\n",
       "                                             Frases comparativas  \n",
       "0                    De acordo com a escala de dor ali na parede  \n",
       "1            qual valor você acha que mais representa a sua dor?  \n",
       "2  De 0 a 10, qual o nível de intensidade da sua dor atualmente?  \n",
       "3                                 Qual a intensidade da sua dor?  "
      ]
     },
     "execution_count": 6,
     "metadata": {},
     "output_type": "execute_result"
    }
   ],
   "source": [
    "dataset"
   ]
  },
  {
   "cell_type": "code",
   "execution_count": 7,
   "id": "2808f87f",
   "metadata": {},
   "outputs": [
    {
     "data": {
      "text/plain": [
       "(4, 3)"
      ]
     },
     "execution_count": 7,
     "metadata": {},
     "output_type": "execute_result"
    }
   ],
   "source": [
    "dataset.shape"
   ]
  },
  {
   "cell_type": "code",
   "execution_count": 8,
   "id": "07967fc3",
   "metadata": {},
   "outputs": [],
   "source": [
    "dataset['frase_original_clean'] = dataset['Frase original'].apply(lambda x: anonymizer(x, stop_words))\n",
    "dataset['Frases_comparativas_clean'] = dataset['Frases comparativas'].apply(lambda x: anonymizer(x, stop_words))"
   ]
  },
  {
   "cell_type": "markdown",
   "id": "5a3b9f9c",
   "metadata": {},
   "source": [
    "### Comparative original column with column clean"
   ]
  },
  {
   "cell_type": "code",
   "execution_count": 9,
   "id": "a2353bab",
   "metadata": {},
   "outputs": [
    {
     "data": {
      "text/html": [
       "<div>\n",
       "<style scoped>\n",
       "    .dataframe tbody tr th:only-of-type {\n",
       "        vertical-align: middle;\n",
       "    }\n",
       "\n",
       "    .dataframe tbody tr th {\n",
       "        vertical-align: top;\n",
       "    }\n",
       "\n",
       "    .dataframe thead th {\n",
       "        text-align: right;\n",
       "    }\n",
       "</style>\n",
       "<table border=\"1\" class=\"dataframe\">\n",
       "  <thead>\n",
       "    <tr style=\"text-align: right;\">\n",
       "      <th></th>\n",
       "      <th>Frase original</th>\n",
       "      <th>frase_original_clean</th>\n",
       "      <th>Frases comparativas</th>\n",
       "      <th>Frases_comparativas_clean</th>\n",
       "    </tr>\n",
       "  </thead>\n",
       "  <tbody>\n",
       "    <tr>\n",
       "      <th>0</th>\n",
       "      <td>Olhando para a escala na parede, qual valor indicaria melhor a sua dor hoje?</td>\n",
       "      <td>olhando escala parede valor indicaria melhor dor hoje</td>\n",
       "      <td>De acordo com a escala de dor ali na parede</td>\n",
       "      <td>acordo escala dor ali parede</td>\n",
       "    </tr>\n",
       "    <tr>\n",
       "      <th>1</th>\n",
       "      <td>Olhando para a escala na parede, qual valor indicaria melhor a sua dor hoje?</td>\n",
       "      <td>olhando escala parede valor indicaria melhor dor hoje</td>\n",
       "      <td>qual valor você acha que mais representa a sua dor?</td>\n",
       "      <td>valor voce acha representa dor</td>\n",
       "    </tr>\n",
       "    <tr>\n",
       "      <th>2</th>\n",
       "      <td>Olhando para a escala na parede, qual valor indicaria melhor a sua dor hoje?</td>\n",
       "      <td>olhando escala parede valor indicaria melhor dor hoje</td>\n",
       "      <td>De 0 a 10, qual o nível de intensidade da sua dor atualmente?</td>\n",
       "      <td>nivel intensidade dor atualmente</td>\n",
       "    </tr>\n",
       "    <tr>\n",
       "      <th>3</th>\n",
       "      <td>Olhando para a escala na parede, qual valor indicaria melhor a sua dor hoje?</td>\n",
       "      <td>olhando escala parede valor indicaria melhor dor hoje</td>\n",
       "      <td>Qual a intensidade da sua dor?</td>\n",
       "      <td>intensidade dor</td>\n",
       "    </tr>\n",
       "  </tbody>\n",
       "</table>\n",
       "</div>"
      ],
      "text/plain": [
       "                                                                 Frase original  \\\n",
       "0  Olhando para a escala na parede, qual valor indicaria melhor a sua dor hoje?   \n",
       "1  Olhando para a escala na parede, qual valor indicaria melhor a sua dor hoje?   \n",
       "2  Olhando para a escala na parede, qual valor indicaria melhor a sua dor hoje?   \n",
       "3  Olhando para a escala na parede, qual valor indicaria melhor a sua dor hoje?   \n",
       "\n",
       "                                    frase_original_clean  \\\n",
       "0  olhando escala parede valor indicaria melhor dor hoje   \n",
       "1  olhando escala parede valor indicaria melhor dor hoje   \n",
       "2  olhando escala parede valor indicaria melhor dor hoje   \n",
       "3  olhando escala parede valor indicaria melhor dor hoje   \n",
       "\n",
       "                                             Frases comparativas  \\\n",
       "0                    De acordo com a escala de dor ali na parede   \n",
       "1            qual valor você acha que mais representa a sua dor?   \n",
       "2  De 0 a 10, qual o nível de intensidade da sua dor atualmente?   \n",
       "3                                 Qual a intensidade da sua dor?   \n",
       "\n",
       "          Frases_comparativas_clean  \n",
       "0      acordo escala dor ali parede  \n",
       "1    valor voce acha representa dor  \n",
       "2  nivel intensidade dor atualmente  \n",
       "3                   intensidade dor  "
      ]
     },
     "execution_count": 9,
     "metadata": {},
     "output_type": "execute_result"
    }
   ],
   "source": [
    "dataset[['Frase original','frase_original_clean', 'Frases comparativas','Frases_comparativas_clean']]"
   ]
  },
  {
   "cell_type": "markdown",
   "id": "d8e1fd19",
   "metadata": {},
   "source": [
    "### Creating tokens and training model Word2Vec"
   ]
  },
  {
   "cell_type": "code",
   "execution_count": 10,
   "id": "761bb0d0",
   "metadata": {},
   "outputs": [],
   "source": [
    "def build_corpus(data):\n",
    "    corpus = []\n",
    "    for sentence in data:\n",
    "        word_list = sentence.split(\" \")\n",
    "        corpus.append(word_list)\n",
    "    return corpus\n",
    "\n",
    "def createModel_word2vec(text,size=None,min_count=None,window=None):\n",
    "    model = gensim.models.word2vec.Word2Vec(text,min_count=min_count,window=window,workers=10)\n",
    "    return model"
   ]
  },
  {
   "cell_type": "code",
   "execution_count": 11,
   "id": "fe15ec9f",
   "metadata": {},
   "outputs": [],
   "source": [
    "dataset[\"Frases_comparativas_clean_wc\"] = build_corpus(dataset['Frases_comparativas_clean'])\n",
    "dataset[\"frase_original_clean_wc\"] = build_corpus(dataset['frase_original_clean'])"
   ]
  },
  {
   "cell_type": "code",
   "execution_count": 12,
   "id": "0c54d67f",
   "metadata": {},
   "outputs": [
    {
     "data": {
      "text/html": [
       "<div>\n",
       "<style scoped>\n",
       "    .dataframe tbody tr th:only-of-type {\n",
       "        vertical-align: middle;\n",
       "    }\n",
       "\n",
       "    .dataframe tbody tr th {\n",
       "        vertical-align: top;\n",
       "    }\n",
       "\n",
       "    .dataframe thead th {\n",
       "        text-align: right;\n",
       "    }\n",
       "</style>\n",
       "<table border=\"1\" class=\"dataframe\">\n",
       "  <thead>\n",
       "    <tr style=\"text-align: right;\">\n",
       "      <th></th>\n",
       "      <th>frase_original_clean_wc</th>\n",
       "      <th>Frases_comparativas_clean_wc</th>\n",
       "    </tr>\n",
       "  </thead>\n",
       "  <tbody>\n",
       "    <tr>\n",
       "      <th>0</th>\n",
       "      <td>[olhando, escala, parede, valor, indicaria, melhor, dor, hoje]</td>\n",
       "      <td>[acordo, escala, dor, ali, parede]</td>\n",
       "    </tr>\n",
       "    <tr>\n",
       "      <th>1</th>\n",
       "      <td>[olhando, escala, parede, valor, indicaria, melhor, dor, hoje]</td>\n",
       "      <td>[valor, voce, acha, representa, dor]</td>\n",
       "    </tr>\n",
       "    <tr>\n",
       "      <th>2</th>\n",
       "      <td>[olhando, escala, parede, valor, indicaria, melhor, dor, hoje]</td>\n",
       "      <td>[nivel, intensidade, dor, atualmente]</td>\n",
       "    </tr>\n",
       "    <tr>\n",
       "      <th>3</th>\n",
       "      <td>[olhando, escala, parede, valor, indicaria, melhor, dor, hoje]</td>\n",
       "      <td>[intensidade, dor]</td>\n",
       "    </tr>\n",
       "  </tbody>\n",
       "</table>\n",
       "</div>"
      ],
      "text/plain": [
       "                                          frase_original_clean_wc  \\\n",
       "0  [olhando, escala, parede, valor, indicaria, melhor, dor, hoje]   \n",
       "1  [olhando, escala, parede, valor, indicaria, melhor, dor, hoje]   \n",
       "2  [olhando, escala, parede, valor, indicaria, melhor, dor, hoje]   \n",
       "3  [olhando, escala, parede, valor, indicaria, melhor, dor, hoje]   \n",
       "\n",
       "            Frases_comparativas_clean_wc  \n",
       "0     [acordo, escala, dor, ali, parede]  \n",
       "1   [valor, voce, acha, representa, dor]  \n",
       "2  [nivel, intensidade, dor, atualmente]  \n",
       "3                     [intensidade, dor]  "
      ]
     },
     "execution_count": 12,
     "metadata": {},
     "output_type": "execute_result"
    }
   ],
   "source": [
    "dataset[['frase_original_clean_wc',\"Frases_comparativas_clean_wc\"]]"
   ]
  },
  {
   "cell_type": "markdown",
   "id": "c07376ff",
   "metadata": {},
   "source": [
    "### Concat columns and convert all words in vector"
   ]
  },
  {
   "cell_type": "code",
   "execution_count": 13,
   "id": "6816287f",
   "metadata": {},
   "outputs": [],
   "source": [
    "dataset[\"concat\"] = dataset[\"frase_original_clean_wc\"] + dataset[\"Frases_comparativas_clean_wc\"]"
   ]
  },
  {
   "cell_type": "code",
   "execution_count": 14,
   "id": "43d391f1",
   "metadata": {},
   "outputs": [
    {
     "data": {
      "text/plain": [
       "0       [olhando, escala, parede, valor, indicaria, melhor, dor, hoje, acordo, escala, dor, ali, parede]\n",
       "1     [olhando, escala, parede, valor, indicaria, melhor, dor, hoje, valor, voce, acha, representa, dor]\n",
       "2    [olhando, escala, parede, valor, indicaria, melhor, dor, hoje, nivel, intensidade, dor, atualmente]\n",
       "3                       [olhando, escala, parede, valor, indicaria, melhor, dor, hoje, intensidade, dor]\n",
       "Name: concat, dtype: object"
      ]
     },
     "execution_count": 14,
     "metadata": {},
     "output_type": "execute_result"
    }
   ],
   "source": [
    "dataset['concat']"
   ]
  },
  {
   "cell_type": "markdown",
   "id": "4c79123d",
   "metadata": {},
   "source": [
    "### Training model"
   ]
  },
  {
   "cell_type": "code",
   "execution_count": 15,
   "id": "d8921939",
   "metadata": {},
   "outputs": [],
   "source": [
    "model_wc = createModel_word2vec(dataset['concat'],min_count=1,window=10)"
   ]
  },
  {
   "cell_type": "code",
   "execution_count": 16,
   "id": "a65f308e",
   "metadata": {},
   "outputs": [
    {
     "data": {
      "text/plain": [
       "gensim.models.word2vec.Word2Vec"
      ]
     },
     "execution_count": 16,
     "metadata": {},
     "output_type": "execute_result"
    }
   ],
   "source": [
    "type(model_wc)"
   ]
  },
  {
   "cell_type": "markdown",
   "id": "6839fcba",
   "metadata": {},
   "source": [
    "### Visualize Vocabulary"
   ]
  },
  {
   "cell_type": "code",
   "execution_count": 17,
   "id": "46a158d7",
   "metadata": {},
   "outputs": [
    {
     "data": {
      "text/plain": [
       "{'olhando': <gensim.models.keyedvectors.Vocab at 0x7f2114347850>,\n",
       " 'escala': <gensim.models.keyedvectors.Vocab at 0x7f2114347df0>,\n",
       " 'parede': <gensim.models.keyedvectors.Vocab at 0x7f21143472e0>,\n",
       " 'valor': <gensim.models.keyedvectors.Vocab at 0x7f21163b23a0>,\n",
       " 'indicaria': <gensim.models.keyedvectors.Vocab at 0x7f2114334550>,\n",
       " 'melhor': <gensim.models.keyedvectors.Vocab at 0x7f20a8996fa0>,\n",
       " 'dor': <gensim.models.keyedvectors.Vocab at 0x7f20a8a4cbe0>,\n",
       " 'hoje': <gensim.models.keyedvectors.Vocab at 0x7f2114347d30>,\n",
       " 'acordo': <gensim.models.keyedvectors.Vocab at 0x7f21143479a0>,\n",
       " 'ali': <gensim.models.keyedvectors.Vocab at 0x7f21143471f0>,\n",
       " 'voce': <gensim.models.keyedvectors.Vocab at 0x7f2114347ca0>,\n",
       " 'acha': <gensim.models.keyedvectors.Vocab at 0x7f2114347520>,\n",
       " 'representa': <gensim.models.keyedvectors.Vocab at 0x7f21143475e0>,\n",
       " 'nivel': <gensim.models.keyedvectors.Vocab at 0x7f211436a850>,\n",
       " 'intensidade': <gensim.models.keyedvectors.Vocab at 0x7f211436a430>,\n",
       " 'atualmente': <gensim.models.keyedvectors.Vocab at 0x7f211436a070>}"
      ]
     },
     "execution_count": 17,
     "metadata": {},
     "output_type": "execute_result"
    }
   ],
   "source": [
    "model_wc.wv.vocab"
   ]
  },
  {
   "cell_type": "code",
   "execution_count": 18,
   "id": "d7df2ff9",
   "metadata": {},
   "outputs": [
    {
     "data": {
      "text/plain": [
       "['olhando',\n",
       " 'escala',\n",
       " 'parede',\n",
       " 'valor',\n",
       " 'indicaria',\n",
       " 'melhor',\n",
       " 'dor',\n",
       " 'hoje',\n",
       " 'acordo',\n",
       " 'ali',\n",
       " 'voce',\n",
       " 'acha',\n",
       " 'representa',\n",
       " 'nivel',\n",
       " 'intensidade',\n",
       " 'atualmente']"
      ]
     },
     "execution_count": 18,
     "metadata": {},
     "output_type": "execute_result"
    }
   ],
   "source": [
    "[x for x in model_wc.wv.vocab]"
   ]
  },
  {
   "cell_type": "markdown",
   "id": "51c0b699",
   "metadata": {},
   "source": [
    "### Get similar words"
   ]
  },
  {
   "cell_type": "code",
   "execution_count": 19,
   "id": "12a7bacd",
   "metadata": {},
   "outputs": [
    {
     "name": "stderr",
     "output_type": "stream",
     "text": [
      "<ipython-input-19-caf29175ad26>:1: DeprecationWarning: Call to deprecated `most_similar` (Method will be removed in 4.0.0, use self.wv.most_similar() instead).\n",
      "  [(item[0],round(item[1],2)) for item in model_wc.most_similar('dor')]\n"
     ]
    },
    {
     "data": {
      "text/plain": [
       "[('olhando', 0.21),\n",
       " ('hoje', 0.16),\n",
       " ('indicaria', 0.09),\n",
       " ('atualmente', 0.05),\n",
       " ('representa', 0.05),\n",
       " ('acha', 0.01),\n",
       " ('nivel', 0.0),\n",
       " ('escala', -0.0),\n",
       " ('voce', -0.01),\n",
       " ('valor', -0.02)]"
      ]
     },
     "execution_count": 19,
     "metadata": {},
     "output_type": "execute_result"
    }
   ],
   "source": [
    "[(item[0],round(item[1],2)) for item in model_wc.most_similar('dor')]"
   ]
  },
  {
   "cell_type": "code",
   "execution_count": 20,
   "id": "350d666b",
   "metadata": {},
   "outputs": [
    {
     "name": "stdout",
     "output_type": "stream",
     "text": [
      "olhando\n",
      "escala\n",
      "parede\n",
      "valor\n",
      "indicaria\n",
      "melhor\n",
      "dor\n",
      "hoje\n",
      "acordo\n",
      "ali\n",
      "voce\n",
      "acha\n",
      "representa\n",
      "nivel\n",
      "intensidade\n",
      "atualmente\n"
     ]
    },
    {
     "name": "stderr",
     "output_type": "stream",
     "text": [
      "<ipython-input-20-d76d8bbdbf23>:8: DeprecationWarning: Call to deprecated `most_similar` (Method will be removed in 4.0.0, use self.wv.most_similar() instead).\n",
      "  for similar_word, _ in model_wc.most_similar(word, topn=30):\n",
      "<ipython-input-20-d76d8bbdbf23>:10: DeprecationWarning: Call to deprecated `__getitem__` (Method will be removed in 4.0.0, use self.wv.__getitem__() instead).\n",
      "  embeddings.append(model_wc[similar_word])\n"
     ]
    }
   ],
   "source": [
    "keys = [x for x in model_wc.wv.vocab]\n",
    "embedding_clusters = []\n",
    "word_clusters = []\n",
    "for word in keys:\n",
    "    print(word)\n",
    "    embeddings = []\n",
    "    words = []\n",
    "    for similar_word, _ in model_wc.most_similar(word, topn=30):\n",
    "        words.append(similar_word)\n",
    "        embeddings.append(model_wc[similar_word])\n",
    "    embedding_clusters.append(embeddings)\n",
    "    word_clusters.append(words)\n",
    "    \n",
    "    model_wc.most_similar"
   ]
  },
  {
   "cell_type": "markdown",
   "id": "591adebb",
   "metadata": {},
   "source": [
    "### Word Embedding"
   ]
  },
  {
   "cell_type": "code",
   "execution_count": 21,
   "id": "f4fe86db",
   "metadata": {},
   "outputs": [
    {
     "name": "stderr",
     "output_type": "stream",
     "text": [
      "Exception ignored on calling ctypes callback function: <function _ThreadpoolInfo._find_modules_with_dl_iterate_phdr.<locals>.match_module_callback at 0x7f20a77bf8b0>\n",
      "Traceback (most recent call last):\n",
      "  File \"/opt/conda/lib/python3.8/site-packages/threadpoolctl.py\", line 400, in match_module_callback\n",
      "    self._make_module_from_path(filepath)\n",
      "  File \"/opt/conda/lib/python3.8/site-packages/threadpoolctl.py\", line 515, in _make_module_from_path\n",
      "    module = module_class(filepath, prefix, user_api, internal_api)\n",
      "  File \"/opt/conda/lib/python3.8/site-packages/threadpoolctl.py\", line 606, in __init__\n",
      "    self.version = self.get_version()\n",
      "  File \"/opt/conda/lib/python3.8/site-packages/threadpoolctl.py\", line 646, in get_version\n",
      "    config = get_config().split()\n",
      "AttributeError: 'NoneType' object has no attribute 'split'\n"
     ]
    }
   ],
   "source": [
    "from sklearn.manifold import TSNE\n",
    "embedding_clusters = np.array(embedding_clusters)\n",
    "n, m, k = embedding_clusters.shape\n",
    "tsne_model_en_2d = TSNE(perplexity=10, n_components=2, init='pca', n_iter=3500, random_state=32)\n",
    "embeddings_en_2d = np.array(tsne_model_en_2d.fit_transform(embedding_clusters.reshape(n * m, k))).reshape(n, m, 2)"
   ]
  },
  {
   "cell_type": "markdown",
   "id": "254208fb",
   "metadata": {},
   "source": [
    "### Plot with similar words"
   ]
  },
  {
   "cell_type": "code",
   "execution_count": 22,
   "id": "62e4d71d",
   "metadata": {},
   "outputs": [],
   "source": [
    "import matplotlib.cm as cm\n",
    "\n",
    "def tsne_plot_similar_words(title, labels, embedding_clusters, word_clusters, a, filename=None):\n",
    "    plt.figure(figsize=(16, 9))\n",
    "    colors = cm.rainbow(np.linspace(0, 1, len(labels)))\n",
    "    for label, embeddings, words, color in zip(labels, embedding_clusters, word_clusters, colors):\n",
    "        x = embeddings[:, 0]\n",
    "        y = embeddings[:, 1]\n",
    "        plt.scatter(x, y, c=color, alpha=a, label=label)\n",
    "        for i, word in enumerate(words):\n",
    "            plt.annotate(word, alpha=0.5, xy=(x[i], y[i]), xytext=(5, 2),\n",
    "                         textcoords='offset points', ha='right', va='bottom', size=8)\n",
    "    plt.legend(loc=4)\n",
    "    plt.title(title)\n",
    "    plt.grid(True)\n",
    "    if filename:\n",
    "        plt.savefig(filename, format='png', dpi=150, bbox_inches='tight')\n",
    "    plt.show()"
   ]
  },
  {
   "cell_type": "code",
   "execution_count": 23,
   "id": "c254d31a",
   "metadata": {
    "scrolled": false
   },
   "outputs": [
    {
     "name": "stderr",
     "output_type": "stream",
     "text": [
      "*c* argument looks like a single numeric RGB or RGBA sequence, which should be avoided as value-mapping will have precedence in case its length matches with *x* & *y*.  Please use the *color* keyword-argument or provide a 2D array with a single row if you intend to specify the same RGB or RGBA value for all points.\n",
      "*c* argument looks like a single numeric RGB or RGBA sequence, which should be avoided as value-mapping will have precedence in case its length matches with *x* & *y*.  Please use the *color* keyword-argument or provide a 2D array with a single row if you intend to specify the same RGB or RGBA value for all points.\n",
      "*c* argument looks like a single numeric RGB or RGBA sequence, which should be avoided as value-mapping will have precedence in case its length matches with *x* & *y*.  Please use the *color* keyword-argument or provide a 2D array with a single row if you intend to specify the same RGB or RGBA value for all points.\n",
      "*c* argument looks like a single numeric RGB or RGBA sequence, which should be avoided as value-mapping will have precedence in case its length matches with *x* & *y*.  Please use the *color* keyword-argument or provide a 2D array with a single row if you intend to specify the same RGB or RGBA value for all points.\n",
      "*c* argument looks like a single numeric RGB or RGBA sequence, which should be avoided as value-mapping will have precedence in case its length matches with *x* & *y*.  Please use the *color* keyword-argument or provide a 2D array with a single row if you intend to specify the same RGB or RGBA value for all points.\n",
      "*c* argument looks like a single numeric RGB or RGBA sequence, which should be avoided as value-mapping will have precedence in case its length matches with *x* & *y*.  Please use the *color* keyword-argument or provide a 2D array with a single row if you intend to specify the same RGB or RGBA value for all points.\n",
      "*c* argument looks like a single numeric RGB or RGBA sequence, which should be avoided as value-mapping will have precedence in case its length matches with *x* & *y*.  Please use the *color* keyword-argument or provide a 2D array with a single row if you intend to specify the same RGB or RGBA value for all points.\n",
      "*c* argument looks like a single numeric RGB or RGBA sequence, which should be avoided as value-mapping will have precedence in case its length matches with *x* & *y*.  Please use the *color* keyword-argument or provide a 2D array with a single row if you intend to specify the same RGB or RGBA value for all points.\n",
      "*c* argument looks like a single numeric RGB or RGBA sequence, which should be avoided as value-mapping will have precedence in case its length matches with *x* & *y*.  Please use the *color* keyword-argument or provide a 2D array with a single row if you intend to specify the same RGB or RGBA value for all points.\n",
      "*c* argument looks like a single numeric RGB or RGBA sequence, which should be avoided as value-mapping will have precedence in case its length matches with *x* & *y*.  Please use the *color* keyword-argument or provide a 2D array with a single row if you intend to specify the same RGB or RGBA value for all points.\n",
      "*c* argument looks like a single numeric RGB or RGBA sequence, which should be avoided as value-mapping will have precedence in case its length matches with *x* & *y*.  Please use the *color* keyword-argument or provide a 2D array with a single row if you intend to specify the same RGB or RGBA value for all points.\n",
      "*c* argument looks like a single numeric RGB or RGBA sequence, which should be avoided as value-mapping will have precedence in case its length matches with *x* & *y*.  Please use the *color* keyword-argument or provide a 2D array with a single row if you intend to specify the same RGB or RGBA value for all points.\n",
      "*c* argument looks like a single numeric RGB or RGBA sequence, which should be avoided as value-mapping will have precedence in case its length matches with *x* & *y*.  Please use the *color* keyword-argument or provide a 2D array with a single row if you intend to specify the same RGB or RGBA value for all points.\n",
      "*c* argument looks like a single numeric RGB or RGBA sequence, which should be avoided as value-mapping will have precedence in case its length matches with *x* & *y*.  Please use the *color* keyword-argument or provide a 2D array with a single row if you intend to specify the same RGB or RGBA value for all points.\n",
      "*c* argument looks like a single numeric RGB or RGBA sequence, which should be avoided as value-mapping will have precedence in case its length matches with *x* & *y*.  Please use the *color* keyword-argument or provide a 2D array with a single row if you intend to specify the same RGB or RGBA value for all points.\n",
      "*c* argument looks like a single numeric RGB or RGBA sequence, which should be avoided as value-mapping will have precedence in case its length matches with *x* & *y*.  Please use the *color* keyword-argument or provide a 2D array with a single row if you intend to specify the same RGB or RGBA value for all points.\n"
     ]
    },
    {
     "data": {
      "image/png": "[encoded data removed]",
      "text/plain": [
       "<Figure size 1152x648 with 1 Axes>"
      ]
     },
     "metadata": {
      "needs_background": "light"
     },
     "output_type": "display_data"
    }
   ],
   "source": [
    "tsne_plot_similar_words('Similar words from text', keys, embeddings_en_2d, word_clusters, 0.1,\n",
    "                        'similar_words.png')"
   ]
  },
  {
   "cell_type": "code",
   "execution_count": 24,
   "id": "88b05e77",
   "metadata": {},
   "outputs": [
    {
     "name": "stdout",
     "output_type": "stream",
     "text": [
      "Loaded 16 words in vocabulary\n"
     ]
    }
   ],
   "source": [
    "w2v_vocab = set(model_wc.wv.vocab)\n",
    "print(\"Loaded {} words in vocabulary\".format(len(w2v_vocab)))"
   ]
  },
  {
   "cell_type": "markdown",
   "id": "ef8ca814",
   "metadata": {},
   "source": [
    "### Make a similarity matrix for words and visualise"
   ]
  },
  {
   "cell_type": "code",
   "execution_count": 25,
   "id": "5413abde",
   "metadata": {},
   "outputs": [
    {
     "name": "stderr",
     "output_type": "stream",
     "text": [
      "<ipython-input-25-c1eab9ff789f>:6: DeprecationWarning: Call to deprecated `similarity` (Method will be removed in 4.0.0, use self.wv.similarity() instead).\n",
      "  sim = model_wc.similarity(word1, word2)\n"
     ]
    }
   ],
   "source": [
    "words = [x for x in model_wc.wv.vocab]\n",
    "similarities = np.zeros((len(words), len(words)), dtype=np.float_)\n",
    "for idx1, word1 in enumerate(words):\n",
    "    for idx2, word2 in enumerate(words):\n",
    "        # note KeyError is possible if word doesn't exist\n",
    "        sim = model_wc.similarity(word1, word2)\n",
    "        similarities[idx1, idx2] = sim\n",
    "        \n",
    "df = pd.DataFrame.from_records(similarities, columns=words)\n",
    "df.index = words"
   ]
  },
  {
   "cell_type": "code",
   "execution_count": 26,
   "id": "729fcad3",
   "metadata": {},
   "outputs": [
    {
     "data": {
      "text/html": [
       "<div>\n",
       "<style scoped>\n",
       "    .dataframe tbody tr th:only-of-type {\n",
       "        vertical-align: middle;\n",
       "    }\n",
       "\n",
       "    .dataframe tbody tr th {\n",
       "        vertical-align: top;\n",
       "    }\n",
       "\n",
       "    .dataframe thead th {\n",
       "        text-align: right;\n",
       "    }\n",
       "</style>\n",
       "<table border=\"1\" class=\"dataframe\">\n",
       "  <thead>\n",
       "    <tr style=\"text-align: right;\">\n",
       "      <th></th>\n",
       "      <th>olhando</th>\n",
       "      <th>escala</th>\n",
       "      <th>parede</th>\n",
       "      <th>valor</th>\n",
       "      <th>indicaria</th>\n",
       "      <th>melhor</th>\n",
       "      <th>dor</th>\n",
       "      <th>hoje</th>\n",
       "      <th>acordo</th>\n",
       "      <th>ali</th>\n",
       "      <th>voce</th>\n",
       "      <th>acha</th>\n",
       "      <th>representa</th>\n",
       "      <th>nivel</th>\n",
       "      <th>intensidade</th>\n",
       "      <th>atualmente</th>\n",
       "    </tr>\n",
       "  </thead>\n",
       "  <tbody>\n",
       "    <tr>\n",
       "      <th>olhando</th>\n",
       "      <td>1.000000</td>\n",
       "      <td>0.030633</td>\n",
       "      <td>0.084046</td>\n",
       "      <td>-0.053753</td>\n",
       "      <td>-0.158713</td>\n",
       "      <td>0.178493</td>\n",
       "      <td>0.205898</td>\n",
       "      <td>0.017808</td>\n",
       "      <td>-0.123317</td>\n",
       "      <td>0.002021</td>\n",
       "      <td>-0.005897</td>\n",
       "      <td>0.118273</td>\n",
       "      <td>-0.125348</td>\n",
       "      <td>0.171982</td>\n",
       "      <td>0.021871</td>\n",
       "      <td>0.201989</td>\n",
       "    </tr>\n",
       "    <tr>\n",
       "      <th>escala</th>\n",
       "      <td>0.030633</td>\n",
       "      <td>1.000000</td>\n",
       "      <td>0.067365</td>\n",
       "      <td>0.004221</td>\n",
       "      <td>-0.025403</td>\n",
       "      <td>0.230036</td>\n",
       "      <td>-0.001540</td>\n",
       "      <td>-0.041029</td>\n",
       "      <td>-0.052647</td>\n",
       "      <td>-0.014215</td>\n",
       "      <td>0.031527</td>\n",
       "      <td>0.050856</td>\n",
       "      <td>-0.268063</td>\n",
       "      <td>0.138677</td>\n",
       "      <td>-0.215501</td>\n",
       "      <td>-0.032406</td>\n",
       "    </tr>\n",
       "    <tr>\n",
       "      <th>parede</th>\n",
       "      <td>0.084046</td>\n",
       "      <td>0.067365</td>\n",
       "      <td>1.000000</td>\n",
       "      <td>0.116811</td>\n",
       "      <td>-0.116049</td>\n",
       "      <td>-0.142603</td>\n",
       "      <td>-0.063237</td>\n",
       "      <td>-0.121337</td>\n",
       "      <td>0.015238</td>\n",
       "      <td>-0.015259</td>\n",
       "      <td>-0.005122</td>\n",
       "      <td>0.111942</td>\n",
       "      <td>-0.281350</td>\n",
       "      <td>0.145914</td>\n",
       "      <td>0.058957</td>\n",
       "      <td>0.258905</td>\n",
       "    </tr>\n",
       "    <tr>\n",
       "      <th>valor</th>\n",
       "      <td>-0.053753</td>\n",
       "      <td>0.004221</td>\n",
       "      <td>0.116811</td>\n",
       "      <td>1.000000</td>\n",
       "      <td>0.091874</td>\n",
       "      <td>0.027703</td>\n",
       "      <td>-0.016172</td>\n",
       "      <td>0.064450</td>\n",
       "      <td>-0.074655</td>\n",
       "      <td>-0.128907</td>\n",
       "      <td>0.089191</td>\n",
       "      <td>-0.191614</td>\n",
       "      <td>-0.215627</td>\n",
       "      <td>0.111916</td>\n",
       "      <td>0.039911</td>\n",
       "      <td>-0.038623</td>\n",
       "    </tr>\n",
       "    <tr>\n",
       "      <th>indicaria</th>\n",
       "      <td>-0.158713</td>\n",
       "      <td>-0.025403</td>\n",
       "      <td>-0.116049</td>\n",
       "      <td>0.091874</td>\n",
       "      <td>1.000000</td>\n",
       "      <td>-0.118503</td>\n",
       "      <td>0.090816</td>\n",
       "      <td>0.087679</td>\n",
       "      <td>0.052418</td>\n",
       "      <td>0.045216</td>\n",
       "      <td>0.051139</td>\n",
       "      <td>-0.086351</td>\n",
       "      <td>-0.052281</td>\n",
       "      <td>0.178763</td>\n",
       "      <td>0.000606</td>\n",
       "      <td>0.050478</td>\n",
       "    </tr>\n",
       "    <tr>\n",
       "      <th>melhor</th>\n",
       "      <td>0.178493</td>\n",
       "      <td>0.230036</td>\n",
       "      <td>-0.142603</td>\n",
       "      <td>0.027703</td>\n",
       "      <td>-0.118503</td>\n",
       "      <td>1.000000</td>\n",
       "      <td>-0.160897</td>\n",
       "      <td>-0.045741</td>\n",
       "      <td>-0.141568</td>\n",
       "      <td>0.083696</td>\n",
       "      <td>0.083114</td>\n",
       "      <td>-0.008586</td>\n",
       "      <td>-0.061149</td>\n",
       "      <td>0.072082</td>\n",
       "      <td>-0.150538</td>\n",
       "      <td>-0.069775</td>\n",
       "    </tr>\n",
       "    <tr>\n",
       "      <th>dor</th>\n",
       "      <td>0.205898</td>\n",
       "      <td>-0.001540</td>\n",
       "      <td>-0.063237</td>\n",
       "      <td>-0.016172</td>\n",
       "      <td>0.090816</td>\n",
       "      <td>-0.160897</td>\n",
       "      <td>1.000000</td>\n",
       "      <td>0.156212</td>\n",
       "      <td>-0.076767</td>\n",
       "      <td>-0.350622</td>\n",
       "      <td>-0.012320</td>\n",
       "      <td>0.006391</td>\n",
       "      <td>0.046929</td>\n",
       "      <td>0.004741</td>\n",
       "      <td>-0.044929</td>\n",
       "      <td>0.052876</td>\n",
       "    </tr>\n",
       "    <tr>\n",
       "      <th>hoje</th>\n",
       "      <td>0.017808</td>\n",
       "      <td>-0.041029</td>\n",
       "      <td>-0.121337</td>\n",
       "      <td>0.064450</td>\n",
       "      <td>0.087679</td>\n",
       "      <td>-0.045741</td>\n",
       "      <td>0.156212</td>\n",
       "      <td>1.000000</td>\n",
       "      <td>0.089469</td>\n",
       "      <td>-0.186104</td>\n",
       "      <td>0.167324</td>\n",
       "      <td>0.014259</td>\n",
       "      <td>-0.017198</td>\n",
       "      <td>0.206437</td>\n",
       "      <td>0.007752</td>\n",
       "      <td>-0.033757</td>\n",
       "    </tr>\n",
       "    <tr>\n",
       "      <th>acordo</th>\n",
       "      <td>-0.123317</td>\n",
       "      <td>-0.052647</td>\n",
       "      <td>0.015238</td>\n",
       "      <td>-0.074655</td>\n",
       "      <td>0.052418</td>\n",
       "      <td>-0.141568</td>\n",
       "      <td>-0.076767</td>\n",
       "      <td>0.089469</td>\n",
       "      <td>1.000000</td>\n",
       "      <td>-0.040117</td>\n",
       "      <td>-0.090044</td>\n",
       "      <td>-0.105884</td>\n",
       "      <td>0.111882</td>\n",
       "      <td>-0.079892</td>\n",
       "      <td>-0.015346</td>\n",
       "      <td>0.119539</td>\n",
       "    </tr>\n",
       "    <tr>\n",
       "      <th>ali</th>\n",
       "      <td>0.002021</td>\n",
       "      <td>-0.014215</td>\n",
       "      <td>-0.015259</td>\n",
       "      <td>-0.128907</td>\n",
       "      <td>0.045216</td>\n",
       "      <td>0.083696</td>\n",
       "      <td>-0.350622</td>\n",
       "      <td>-0.186104</td>\n",
       "      <td>-0.040117</td>\n",
       "      <td>1.000000</td>\n",
       "      <td>0.032134</td>\n",
       "      <td>-0.001436</td>\n",
       "      <td>0.037610</td>\n",
       "      <td>-0.017734</td>\n",
       "      <td>-0.049106</td>\n",
       "      <td>0.044918</td>\n",
       "    </tr>\n",
       "    <tr>\n",
       "      <th>voce</th>\n",
       "      <td>-0.005897</td>\n",
       "      <td>0.031527</td>\n",
       "      <td>-0.005122</td>\n",
       "      <td>0.089191</td>\n",
       "      <td>0.051139</td>\n",
       "      <td>0.083114</td>\n",
       "      <td>-0.012320</td>\n",
       "      <td>0.167324</td>\n",
       "      <td>-0.090044</td>\n",
       "      <td>0.032134</td>\n",
       "      <td>1.000000</td>\n",
       "      <td>0.128431</td>\n",
       "      <td>0.022075</td>\n",
       "      <td>-0.020092</td>\n",
       "      <td>-0.067481</td>\n",
       "      <td>-0.101429</td>\n",
       "    </tr>\n",
       "    <tr>\n",
       "      <th>acha</th>\n",
       "      <td>0.118273</td>\n",
       "      <td>0.050856</td>\n",
       "      <td>0.111942</td>\n",
       "      <td>-0.191614</td>\n",
       "      <td>-0.086351</td>\n",
       "      <td>-0.008586</td>\n",
       "      <td>0.006391</td>\n",
       "      <td>0.014259</td>\n",
       "      <td>-0.105884</td>\n",
       "      <td>-0.001436</td>\n",
       "      <td>0.128431</td>\n",
       "      <td>1.000000</td>\n",
       "      <td>-0.021999</td>\n",
       "      <td>-0.017570</td>\n",
       "      <td>-0.082827</td>\n",
       "      <td>-0.215684</td>\n",
       "    </tr>\n",
       "    <tr>\n",
       "      <th>representa</th>\n",
       "      <td>-0.125348</td>\n",
       "      <td>-0.268063</td>\n",
       "      <td>-0.281350</td>\n",
       "      <td>-0.215627</td>\n",
       "      <td>-0.052281</td>\n",
       "      <td>-0.061149</td>\n",
       "      <td>0.046929</td>\n",
       "      <td>-0.017198</td>\n",
       "      <td>0.111882</td>\n",
       "      <td>0.037610</td>\n",
       "      <td>0.022075</td>\n",
       "      <td>-0.021999</td>\n",
       "      <td>1.000000</td>\n",
       "      <td>-0.294380</td>\n",
       "      <td>0.057788</td>\n",
       "      <td>-0.029830</td>\n",
       "    </tr>\n",
       "    <tr>\n",
       "      <th>nivel</th>\n",
       "      <td>0.171982</td>\n",
       "      <td>0.138677</td>\n",
       "      <td>0.145914</td>\n",
       "      <td>0.111916</td>\n",
       "      <td>0.178763</td>\n",
       "      <td>0.072082</td>\n",
       "      <td>0.004741</td>\n",
       "      <td>0.206437</td>\n",
       "      <td>-0.079892</td>\n",
       "      <td>-0.017734</td>\n",
       "      <td>-0.020092</td>\n",
       "      <td>-0.017570</td>\n",
       "      <td>-0.294380</td>\n",
       "      <td>1.000000</td>\n",
       "      <td>0.064542</td>\n",
       "      <td>-0.095859</td>\n",
       "    </tr>\n",
       "    <tr>\n",
       "      <th>intensidade</th>\n",
       "      <td>0.021871</td>\n",
       "      <td>-0.215501</td>\n",
       "      <td>0.058957</td>\n",
       "      <td>0.039911</td>\n",
       "      <td>0.000606</td>\n",
       "      <td>-0.150538</td>\n",
       "      <td>-0.044929</td>\n",
       "      <td>0.007752</td>\n",
       "      <td>-0.015346</td>\n",
       "      <td>-0.049106</td>\n",
       "      <td>-0.067481</td>\n",
       "      <td>-0.082827</td>\n",
       "      <td>0.057788</td>\n",
       "      <td>0.064542</td>\n",
       "      <td>1.000000</td>\n",
       "      <td>0.027297</td>\n",
       "    </tr>\n",
       "    <tr>\n",
       "      <th>atualmente</th>\n",
       "      <td>0.201989</td>\n",
       "      <td>-0.032406</td>\n",
       "      <td>0.258905</td>\n",
       "      <td>-0.038623</td>\n",
       "      <td>0.050478</td>\n",
       "      <td>-0.069775</td>\n",
       "      <td>0.052876</td>\n",
       "      <td>-0.033757</td>\n",
       "      <td>0.119539</td>\n",
       "      <td>0.044918</td>\n",
       "      <td>-0.101429</td>\n",
       "      <td>-0.215684</td>\n",
       "      <td>-0.029830</td>\n",
       "      <td>-0.095859</td>\n",
       "      <td>0.027297</td>\n",
       "      <td>1.000000</td>\n",
       "    </tr>\n",
       "  </tbody>\n",
       "</table>\n",
       "</div>"
      ],
      "text/plain": [
       "              olhando    escala    parede     valor  indicaria    melhor  \\\n",
       "olhando      1.000000  0.030633  0.084046 -0.053753  -0.158713  0.178493   \n",
       "escala       0.030633  1.000000  0.067365  0.004221  -0.025403  0.230036   \n",
       "parede       0.084046  0.067365  1.000000  0.116811  -0.116049 -0.142603   \n",
       "valor       -0.053753  0.004221  0.116811  1.000000   0.091874  0.027703   \n",
       "indicaria   -0.158713 -0.025403 -0.116049  0.091874   1.000000 -0.118503   \n",
       "melhor       0.178493  0.230036 -0.142603  0.027703  -0.118503  1.000000   \n",
       "dor          0.205898 -0.001540 -0.063237 -0.016172   0.090816 -0.160897   \n",
       "hoje         0.017808 -0.041029 -0.121337  0.064450   0.087679 -0.045741   \n",
       "acordo      -0.123317 -0.052647  0.015238 -0.074655   0.052418 -0.141568   \n",
       "ali          0.002021 -0.014215 -0.015259 -0.128907   0.045216  0.083696   \n",
       "voce        -0.005897  0.031527 -0.005122  0.089191   0.051139  0.083114   \n",
       "acha         0.118273  0.050856  0.111942 -0.191614  -0.086351 -0.008586   \n",
       "representa  -0.125348 -0.268063 -0.281350 -0.215627  -0.052281 -0.061149   \n",
       "nivel        0.171982  0.138677  0.145914  0.111916   0.178763  0.072082   \n",
       "intensidade  0.021871 -0.215501  0.058957  0.039911   0.000606 -0.150538   \n",
       "atualmente   0.201989 -0.032406  0.258905 -0.038623   0.050478 -0.069775   \n",
       "\n",
       "                  dor      hoje    acordo       ali      voce      acha  \\\n",
       "olhando      0.205898  0.017808 -0.123317  0.002021 -0.005897  0.118273   \n",
       "escala      -0.001540 -0.041029 -0.052647 -0.014215  0.031527  0.050856   \n",
       "parede      -0.063237 -0.121337  0.015238 -0.015259 -0.005122  0.111942   \n",
       "valor       -0.016172  0.064450 -0.074655 -0.128907  0.089191 -0.191614   \n",
       "indicaria    0.090816  0.087679  0.052418  0.045216  0.051139 -0.086351   \n",
       "melhor      -0.160897 -0.045741 -0.141568  0.083696  0.083114 -0.008586   \n",
       "dor          1.000000  0.156212 -0.076767 -0.350622 -0.012320  0.006391   \n",
       "hoje         0.156212  1.000000  0.089469 -0.186104  0.167324  0.014259   \n",
       "acordo      -0.076767  0.089469  1.000000 -0.040117 -0.090044 -0.105884   \n",
       "ali         -0.350622 -0.186104 -0.040117  1.000000  0.032134 -0.001436   \n",
       "voce        -0.012320  0.167324 -0.090044  0.032134  1.000000  0.128431   \n",
       "acha         0.006391  0.014259 -0.105884 -0.001436  0.128431  1.000000   \n",
       "representa   0.046929 -0.017198  0.111882  0.037610  0.022075 -0.021999   \n",
       "nivel        0.004741  0.206437 -0.079892 -0.017734 -0.020092 -0.017570   \n",
       "intensidade -0.044929  0.007752 -0.015346 -0.049106 -0.067481 -0.082827   \n",
       "atualmente   0.052876 -0.033757  0.119539  0.044918 -0.101429 -0.215684   \n",
       "\n",
       "             representa     nivel  intensidade  atualmente  \n",
       "olhando       -0.125348  0.171982     0.021871    0.201989  \n",
       "escala        -0.268063  0.138677    -0.215501   -0.032406  \n",
       "parede        -0.281350  0.145914     0.058957    0.258905  \n",
       "valor         -0.215627  0.111916     0.039911   -0.038623  \n",
       "indicaria     -0.052281  0.178763     0.000606    0.050478  \n",
       "melhor        -0.061149  0.072082    -0.150538   -0.069775  \n",
       "dor            0.046929  0.004741    -0.044929    0.052876  \n",
       "hoje          -0.017198  0.206437     0.007752   -0.033757  \n",
       "acordo         0.111882 -0.079892    -0.015346    0.119539  \n",
       "ali            0.037610 -0.017734    -0.049106    0.044918  \n",
       "voce           0.022075 -0.020092    -0.067481   -0.101429  \n",
       "acha          -0.021999 -0.017570    -0.082827   -0.215684  \n",
       "representa     1.000000 -0.294380     0.057788   -0.029830  \n",
       "nivel         -0.294380  1.000000     0.064542   -0.095859  \n",
       "intensidade    0.057788  0.064542     1.000000    0.027297  \n",
       "atualmente    -0.029830 -0.095859     0.027297    1.000000  "
      ]
     },
     "execution_count": 26,
     "metadata": {},
     "output_type": "execute_result"
    }
   ],
   "source": [
    "df"
   ]
  },
  {
   "cell_type": "code",
   "execution_count": 27,
   "id": "997cbac8",
   "metadata": {},
   "outputs": [
    {
     "data": {
      "image/png": "[encoded data removed]",
      "text/plain": [
       "<Figure size 1008x576 with 2 Axes>"
      ]
     },
     "metadata": {
      "needs_background": "light"
     },
     "output_type": "display_data"
    }
   ],
   "source": [
    "f, ax=plt.subplots(1, 1, figsize=(14,8))\n",
    "cmap = plt.cm.Blues\n",
    "mask = np.zeros_like(df)\n",
    "mask[np.triu_indices_from(mask)] = True\n",
    "sns.heatmap(df, cmap=cmap, mask=mask, square=True, ax=ax)\n",
    "_=plt.yticks(rotation=90)\n",
    "plt.xlabel('Words')\n",
    "_=plt.xticks(rotation=45)\n",
    "_=plt.title(\"Similarities between words\")"
   ]
  },
  {
   "cell_type": "markdown",
   "id": "e7e08b67",
   "metadata": {},
   "source": [
    "### Score a target sentence to source sentences"
   ]
  },
  {
   "cell_type": "code",
   "execution_count": 28,
   "id": "7e12e9a0",
   "metadata": {},
   "outputs": [],
   "source": [
    "#target_sentence = \"You'd love to drink a cool refreshing Coke\"\n",
    "target_sentence = [\"Olhando para a escala na parede, qual valor indicaria melhor a sua dor hoje?\",\n",
    "                  \"De acordo com a escala de dor ali na parede\",\n",
    "                  'qual valor você acha que mais representa a sua dor?',\n",
    "                                'De 0 a 10, qual o nível de intensidade da sua dor atualmente?',\n",
    "                                'Qual a intensidade da sua dor?']"
   ]
  },
  {
   "cell_type": "code",
   "execution_count": 29,
   "id": "a2d60133",
   "metadata": {},
   "outputs": [
    {
     "name": "stdout",
     "output_type": "stream",
     "text": [
      "Target: ['Olhando para a escala na parede, qual valor indicaria melhor a sua dor hoje?', 'De acordo com a escala de dor ali na parede', 'qual valor você acha que mais representa a sua dor?', 'De 0 a 10, qual o nível de intensidade da sua dor atualmente?', 'Qual a intensidade da sua dor?']\n",
      "[(0.5264478325843811, 'escala'), (0.4757067859172821, 'valor'), (0.45198529958724976, 'indicaria'), (0.42838427424430847, 'dor'), (0.4060628414154053, 'melhor'), (0.21860340237617493, 'nivel'), (0.10336467623710632, 'voce'), (0.10083707422018051, 'hoje'), (0.09225820749998093, 'olhando'), (-0.013779323548078537, 'atualmente'), (-0.05921066924929619, 'parede'), (-0.09790153056383133, 'acha'), (-0.1275934875011444, 'acordo'), (-0.16127707064151764, 'intensidade'), (-0.16993826627731323, 'ali'), (-0.23705007135868073, 'representa')]\n",
      "Target: ['Olhando para a escala na parede, qual valor indicaria melhor a sua dor hoje?', 'De acordo com a escala de dor ali na parede', 'qual valor você acha que mais representa a sua dor?', 'De 0 a 10, qual o nível de intensidade da sua dor atualmente?', 'Qual a intensidade da sua dor?']\n",
      "[(0.5005185008049011, 'escala'), (0.4846145212650299, 'parede'), (0.4391230046749115, 'acordo'), (0.2868292033672333, 'dor'), (0.27127736806869507, 'ali'), (0.22119224071502686, 'atualmente'), (0.10239401459693909, 'olhando'), (0.0927051305770874, 'nivel'), (0.02873900532722473, 'indicaria'), (0.02751055546104908, 'acha'), (-0.02403467707335949, 'voce'), (-0.04172707721590996, 'hoje'), (-0.052178382873535156, 'valor'), (-0.07088714838027954, 'melhor'), (-0.13588309288024902, 'intensidade'), (-0.16951648890972137, 'representa')]\n",
      "Target: ['Olhando para a escala na parede, qual valor indicaria melhor a sua dor hoje?', 'De acordo com a escala de dor ali na parede', 'qual valor você acha que mais representa a sua dor?', 'De 0 a 10, qual o nível de intensidade da sua dor atualmente?', 'Qual a intensidade da sua dor?']\n",
      "[(0.5294231176376343, 'representa'), (0.5216749906539917, 'acha'), (0.4120398461818695, 'valor'), (0.1627325564622879, 'voce'), (0.04207191243767738, 'hoje'), (0.025637518614530563, 'dor'), (0.012146679684519768, 'intensidade'), (-0.02900654822587967, 'melhor'), (-0.030636707320809364, 'indicaria'), (-0.03947840631008148, 'parede'), (-0.044785261154174805, 'olhando'), (-0.04481019452214241, 'acordo'), (-0.06380238384008408, 'ali'), (-0.13853409886360168, 'nivel'), (-0.1487891972064972, 'escala'), (-0.19160914421081543, 'atualmente')]\n",
      "Target: ['Olhando para a escala na parede, qual valor indicaria melhor a sua dor hoje?', 'De acordo com a escala de dor ali na parede', 'qual valor você acha que mais representa a sua dor?', 'De 0 a 10, qual o nível de intensidade da sua dor atualmente?', 'Qual a intensidade da sua dor?']\n",
      "[(0.7242982387542725, 'dor'), (0.6562484502792358, 'intensidade'), (0.17061097919940948, 'olhando'), (0.12333881109952927, 'hoje'), (0.07533024996519089, 'representa'), (0.06901215016841888, 'indicaria'), (0.0587778203189373, 'atualmente'), (0.048126470297575, 'nivel'), (0.01533123105764389, 'valor'), (-0.007072304375469685, 'parede'), (-0.05233841389417648, 'acha'), (-0.05588015913963318, 'voce'), (-0.06857398897409439, 'acordo'), (-0.14989815652370453, 'escala'), (-0.22542542219161987, 'melhor'), (-0.2987198233604431, 'ali')]\n",
      "Target: ['Olhando para a escala na parede, qual valor indicaria melhor a sua dor hoje?', 'De acordo com a escala de dor ali na parede', 'qual valor você acha que mais representa a sua dor?', 'De 0 a 10, qual o nível de intensidade da sua dor atualmente?', 'Qual a intensidade da sua dor?']\n",
      "[(1.0, 'intensidade'), (0.06454166769981384, 'nivel'), (0.05895652994513512, 'parede'), (0.05778833106160164, 'representa'), (0.03991125524044037, 'valor'), (0.027297498658299446, 'atualmente'), (0.021870508790016174, 'olhando'), (0.007752429693937302, 'hoje'), (0.0006058556027710438, 'indicaria'), (-0.01534601766616106, 'acordo'), (-0.044929105788469315, 'dor'), (-0.04910594969987869, 'ali'), (-0.06748122721910477, 'voce'), (-0.08282654732465744, 'acha'), (-0.15053780376911163, 'melhor'), (-0.21550066769123077, 'escala')]\n"
     ]
    },
    {
     "name": "stderr",
     "output_type": "stream",
     "text": [
      "<ipython-input-29-589428ef2963>:10: DeprecationWarning: Call to deprecated `n_similarity` (Method will be removed in 4.0.0, use self.wv.n_similarity() instead).\n",
      "  sim = model_wc.n_similarity(target_sentence_words, sentence_words)\n"
     ]
    }
   ],
   "source": [
    "# use n_similarity to compute a cosine similarity (should be reasonably robust)\n",
    "\n",
    "for i in target_sentence:\n",
    "    sentences = [x for x in model_wc.wv.vocab]\n",
    "    sentences_similarity = np.zeros(len(sentences))\n",
    "\n",
    "    target_sentence_words = [w for w in i.split() if w in w2v_vocab]\n",
    "    for idx, sentence in enumerate(sentences):\n",
    "        sentence_words = [w for w in sentence.split() if w in w2v_vocab]\n",
    "        sim = model_wc.n_similarity(target_sentence_words, sentence_words)\n",
    "        sentences_similarity[idx] = sim\n",
    "\n",
    "    result = list(zip(sentences_similarity, sentences))\n",
    "    result.sort(key=lambda item:item[0], reverse=True)\n",
    "    print(\"Target:\", target_sentence)\n",
    "    print(result)"
   ]
  },
  {
   "cell_type": "markdown",
   "id": "0bef9cc2",
   "metadata": {},
   "source": [
    "### Test some word relationships"
   ]
  },
  {
   "cell_type": "code",
   "execution_count": 30,
   "id": "249b3015",
   "metadata": {},
   "outputs": [
    {
     "name": "stderr",
     "output_type": "stream",
     "text": [
      "<ipython-input-30-60883f20d73e>:1: DeprecationWarning: Call to deprecated `most_similar` (Method will be removed in 4.0.0, use self.wv.most_similar() instead).\n",
      "  model_wc.most_similar(positive=[\"acordo\", \"melhor\"], negative=['dor', 'intensidade'])\n"
     ]
    },
    {
     "data": {
      "text/plain": [
       "[('ali', 0.210524320602417),\n",
       " ('escala', 0.18731258809566498),\n",
       " ('voce', 0.034606292843818665),\n",
       " ('atualmente', -0.014441309496760368),\n",
       " ('acha', -0.018062174320220947),\n",
       " ('representa', -0.025636760517954826),\n",
       " ('valor', -0.03357068449258804),\n",
       " ('nivel', -0.03661074861884117),\n",
       " ('hoje', -0.057099681347608566),\n",
       " ('parede', -0.0584522970020771)]"
      ]
     },
     "execution_count": 30,
     "metadata": {},
     "output_type": "execute_result"
    }
   ],
   "source": [
    "model_wc.most_similar(positive=[\"acordo\", \"melhor\"], negative=['dor', 'intensidade'])"
   ]
  },
  {
   "cell_type": "markdown",
   "id": "cbf9f520",
   "metadata": {},
   "source": [
    "### Project a set of words (via their 30 dimensional vector) using T-SNE"
   ]
  },
  {
   "cell_type": "code",
   "execution_count": 31,
   "id": "8b354eb4",
   "metadata": {},
   "outputs": [
    {
     "name": "stderr",
     "output_type": "stream",
     "text": [
      "<ipython-input-31-da48ab1e3c05>:7: DeprecationWarning: Call to deprecated `most_similar` (Method will be removed in 4.0.0, use self.wv.most_similar() instead).\n",
      "  for word, _ in model_wc.most_similar(woi):\n",
      "<ipython-input-31-da48ab1e3c05>:14: DeprecationWarning: Call to deprecated `__getitem__` (Method will be removed in 4.0.0, use self.wv.__getitem__() instead).\n",
      "  vectors.append(model_wc[word])\n",
      "Exception ignored on calling ctypes callback function: <function _ThreadpoolInfo._find_modules_with_dl_iterate_phdr.<locals>.match_module_callback at 0x7f20a242be50>\n",
      "Traceback (most recent call last):\n",
      "  File \"/opt/conda/lib/python3.8/site-packages/threadpoolctl.py\", line 400, in match_module_callback\n",
      "    self._make_module_from_path(filepath)\n",
      "  File \"/opt/conda/lib/python3.8/site-packages/threadpoolctl.py\", line 515, in _make_module_from_path\n",
      "    module = module_class(filepath, prefix, user_api, internal_api)\n",
      "  File \"/opt/conda/lib/python3.8/site-packages/threadpoolctl.py\", line 606, in __init__\n",
      "    self.version = self.get_version()\n",
      "  File \"/opt/conda/lib/python3.8/site-packages/threadpoolctl.py\", line 646, in get_version\n",
      "    config = get_config().split()\n",
      "AttributeError: 'NoneType' object has no attribute 'split'\n",
      "<ipython-input-31-da48ab1e3c05>:27: DeprecationWarning: Call to deprecated `similarity` (Method will be removed in 4.0.0, use self.wv.similarity() instead).\n",
      "  similarity = min(max(0, model_wc.similarity(target_word, woi)), 1.0)\n",
      "<ipython-input-31-da48ab1e3c05>:38: MatplotlibDeprecationWarning: The 's' parameter of annotate() has been renamed 'text' since Matplotlib 3.3; support for the old name will be dropped two minor releases later.\n",
      "  plt.annotate(s=label, xy=(x, y), color=color)\n"
     ]
    },
    {
     "data": {
      "text/plain": [
       "Text(0.5, 1.0, \"Word similarity (T-SNE) using vectors from 16 words\\nColoured by similarity to 'dor'\")"
      ]
     },
     "execution_count": 31,
     "metadata": {},
     "output_type": "execute_result"
    },
    {
     "data": {
      "image/png": "[encoded data removed]",
      "text/plain": [
       "<Figure size 864x576 with 1 Axes>"
      ]
     },
     "metadata": {
      "needs_background": "light"
     },
     "output_type": "display_data"
    }
   ],
   "source": [
    "from sklearn.manifold import TSNE\n",
    "\n",
    "raw_words_of_interest = [x for x in model_wc.wv.vocab]\n",
    "\n",
    "words_of_interest = []\n",
    "for woi in raw_words_of_interest:\n",
    "    for word, _ in model_wc.most_similar(woi):\n",
    "        words_of_interest.append(word)\n",
    "\n",
    "words_of_interest = list(set(words_of_interest))\n",
    "\n",
    "vectors = []\n",
    "for word in set(words_of_interest):\n",
    "    vectors.append(model_wc[word])\n",
    "    \n",
    "vectors = np.vstack(vectors) # turn vectors into a 2D array <words x 300dim>\n",
    "\n",
    "model = TSNE(n_components=2, perplexity=10, random_state=0)\n",
    "X_tsne = model.fit_transform(vectors)\n",
    "df_after_tsne = pd.DataFrame.from_records(X_tsne, columns=['x', 'y'])\n",
    "df_after_tsne['labels'] = words_of_interest\n",
    "\n",
    "# calculate similarity from a target word to all words, to use as our colour\n",
    "target_word = \"dor\"\n",
    "similarities = []\n",
    "for woi in words_of_interest:\n",
    "    similarity = min(max(0, model_wc.similarity(target_word, woi)), 1.0)\n",
    "    similarities.append(similarity)\n",
    "\n",
    "# plot the T-SNE layout for words, darker words means more similar to our target\n",
    "plt.figure(figsize=(12,8))\n",
    "plt.xlim((min(X_tsne[:,0]), max(X_tsne[:,0])))\n",
    "plt.ylim((min(X_tsne[:,1]), max(X_tsne[:,1])))\n",
    "for idx in range(X_tsne.shape[0]):\n",
    "    x, y = X_tsne[idx]\n",
    "    label = words_of_interest[idx]\n",
    "    color=str(min(0.6, 1.0-similarities[idx])) # convert to string \"0.0\"..\"1.0\" as greyscale for mpl\n",
    "    plt.annotate(s=label, xy=(x, y), color=color)\n",
    "    #plt.annotate(s=label, xy=(x, y), weight=int(similarities[idx]*1000)) # use weight\n",
    "plt.tight_layout()\n",
    "plt.title(\"Word similarity (T-SNE) using vectors from {} words\\nColoured by similarity to '{}'\".format(len(words_of_interest), target_word))"
   ]
  },
  {
   "cell_type": "code",
   "execution_count": null,
   "id": "32e79ec3",
   "metadata": {},
   "outputs": [],
   "source": []
  }
 ],
 "metadata": {
  "kernelspec": {
   "display_name": "Python 3",
   "language": "python",
   "name": "python3"
  },
  "language_info": {
   "codemirror_mode": {
    "name": "ipython",
    "version": 3
   },
   "file_extension": ".py",
   "mimetype": "text/x-python",
   "name": "python",
   "nbconvert_exporter": "python",
   "pygments_lexer": "ipython3",
   "version": "3.8.8"
  }
 },
 "nbformat": 4,
 "nbformat_minor": 5
}
